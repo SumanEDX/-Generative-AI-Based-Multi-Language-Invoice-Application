{
  "nbformat": 4,
  "nbformat_minor": 0,
  "metadata": {
    "colab": {
      "provenance": []
    },
    "kernelspec": {
      "name": "python3",
      "display_name": "Python 3"
    },
    "language_info": {
      "name": "python"
    }
  },
  "cells": [
    {
      "cell_type": "code",
      "execution_count": null,
      "metadata": {
        "id": "M7u4YUmarO05"
      },
      "outputs": [],
      "source": [
        "# Q&A Chatbot\n",
        "#from langchain.llms import OpenAI\n",
        "\n",
        "from dotenv import load_dotenv\n",
        "\n",
        "load_dotenv()  # take environment variables from .env.\n",
        "\n",
        "import streamlit as st\n",
        "import os\n",
        "import pathlib\n",
        "import textwrap\n",
        "from PIL import Image"
      ]
    },
    {
      "cell_type": "code",
      "source": [
        "import google.generativeai as genai\n",
        "os.getenv(\"GOOGLE_API_KEY\")\n",
        "genai.configure(api_key=os.getenv(\"GOOGLE_API_KEY\"))"
      ],
      "metadata": {
        "id": "jXZjaoF2rUEX"
      },
      "execution_count": null,
      "outputs": []
    },
    {
      "cell_type": "code",
      "source": [
        "## Function to load OpenAI model and get respones\n",
        "\n",
        "def get_gemini_response(input,image,prompt):\n",
        "    model = genai.GenerativeModel('gemini-pro-vision')\n",
        "    response = model.generate_content([input,image[0],prompt])\n",
        "    return response.text\n",
        "\n",
        "\n",
        "def input_image_setup(uploaded_file):\n",
        "    # Check if a file has been uploaded\n",
        "    if uploaded_file is not None:\n",
        "        # Read the file into bytes\n",
        "        bytes_data = uploaded_file.getvalue()\n",
        "\n",
        "        image_parts = [\n",
        "            {\n",
        "                \"mime_type\": uploaded_file.type,  # Get the mime type of the uploaded file\n",
        "                \"data\": bytes_data\n",
        "            }\n",
        "        ]\n",
        "        return image_parts\n",
        "    else:\n",
        "        raise FileNotFoundError(\"No file uploaded\")\n",
        "\n",
        "\n"
      ],
      "metadata": {
        "id": "qCEtK1TlrY2C"
      },
      "execution_count": 3,
      "outputs": []
    },
    {
      "cell_type": "code",
      "source": [
        "##initialize our streamlit app\n",
        "\n",
        "st.set_page_config(page_title=\"Gemini Image Demo\")\n",
        "\n",
        "st.header(\"Gemini Application\")\n",
        "input=st.text_input(\"Input Prompt: \",key=\"input\")\n",
        "uploaded_file = st.file_uploader(\"Choose an image...\", type=[\"jpg\", \"jpeg\", \"png\"])\n",
        "image=\"\"\n",
        "if uploaded_file is not None:\n",
        "    image = Image.open(uploaded_file)\n",
        "    st.image(image, caption=\"Uploaded Image.\", use_column_width=True)\n",
        "\n",
        "\n",
        "submit=st.button(\"Tell me about the image\")\n",
        "\n",
        "input_prompt = \"\"\"\n",
        "               You are an expert in understanding invoices.\n",
        "               You will receive input images as invoices &\n",
        "               you will have to answer questions based on the input image\n",
        "               \"\""
      ],
      "metadata": {
        "id": "1MovHCRirb30"
      },
      "execution_count": null,
      "outputs": []
    },
    {
      "cell_type": "code",
      "source": [
        "## If ask button is clicked\n",
        "\n",
        "if submit:\n",
        "    image_data = input_image_setup(uploaded_file)\n",
        "    response=get_gemini_response(input_prompt,image_data,input)\n",
        "    st.subheader(\"The Response is\")\n",
        "    st.write(response)"
      ],
      "metadata": {
        "id": "UVCrKY_qreAD"
      },
      "execution_count": null,
      "outputs": []
    }
  ]
}